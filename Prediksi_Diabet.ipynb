{
  "nbformat": 4,
  "nbformat_minor": 0,
  "metadata": {
    "colab": {
      "provenance": [],
      "toc_visible": true
    },
    "kernelspec": {
      "name": "python3",
      "display_name": "Python 3"
    },
    "language_info": {
      "name": "python"
    }
  },
  "cells": [
    {
      "cell_type": "markdown",
      "source": [
        "**Sistem knowledge base untuk Skrining Awal Risiko Diabetes**\n",
        "===\n",
        "---\n",
        "**Author:** *Yehezkiel Budi Hermawan [24.55.2710];&nbsp;&nbsp;Muhammad Wira Widhana [24.55.2717];&nbsp;&nbsp;Ika Kemala Sawati Azzahra [24.55.2730];&nbsp;&nbsp;Aulia Nanda Rusanti [24.55.2669]*\n"
      ],
      "metadata": {
        "id": "tP8rCgtmrj39"
      }
    },
    {
      "cell_type": "markdown",
      "source": [
        "Notebook ini menunjukan proses pembuatan model klasifikasi Machine Learning untuk memprediksi risiko diabetes berdasarkan data diagnostik. Proses ini mencakup beberapa tahapan utama:\n",
        "\n",
        "1. **Eksplorasi dan Analisis Data (EDA)**: Memahami dataset dan karakteristiknya.\n",
        "\n",
        "2. **Pra-pemrosesan Data (Data Preprocessing)**: Membersihkan dan mempersiapkan data untuk pemodelan.\n",
        "\n",
        "3. **Pemodelan (Modeling)**: Melatih lima model klasifikasi yang berbeda.\n",
        "\n",
        "4. **Evaluasi Model (Evaluation)**: Mengevaluasi dan membandingkan kinerja setiap model.\n",
        "\n",
        "5. **Kesimpulan**: Memilih model terbaik untuk kasus penggunaan ini."
      ],
      "metadata": {
        "id": "QxZ2RvN1r2j4"
      }
    },
    {
      "cell_type": "markdown",
      "source": [
        "Dataset berasal dari kaggle [https://www.kaggle.com/datasets/uciml/pima-indians-diabetes-database/data](https://www.kaggle.com/datasets/uciml/pima-indians-diabetes-database/data)"
      ],
      "metadata": {
        "id": "1jeTdB12-9E0"
      }
    },
    {
      "cell_type": "markdown",
      "source": [
        "## 1. Import Library yang Dibutuhkan"
      ],
      "metadata": {
        "id": "FrEQx2oTsv4z"
      }
    },
    {
      "cell_type": "code",
      "source": [
        "# Import library untuk analisis data\n",
        "import pandas as pd\n",
        "import numpy as np\n",
        "\n",
        "# Import library untuk visualisasi data\n",
        "import matplotlib.pyplot as plt\n",
        "import seaborn as sns\n",
        "\n",
        "# Import library untuk pra-pemrosesan data\n",
        "from sklearn.model_selection import train_test_split\n",
        "from sklearn.preprocessing import StandardScaler\n",
        "\n",
        "# Import library untuk model ML\n",
        "from sklearn.linear_model import LogisticRegression\n",
        "from sklearn.neighbors import KNeighborsClassifier\n",
        "from sklearn.svm import SVC\n",
        "from sklearn.tree import DecisionTreeClassifier\n",
        "from sklearn.ensemble import RandomForestClassifier\n",
        "\n",
        "# Import library untuk evaluasi\n",
        "from sklearn.metrics import accuracy_score, precision_score, recall_score, f1_score, confusion_matrix"
      ],
      "metadata": {
        "id": "3dat_4m-rX6t"
      },
      "execution_count": 1,
      "outputs": []
    },
    {
      "cell_type": "markdown",
      "source": [
        "## 2. Memuat dan Memeriksa Data (Data Loading & EDA)"
      ],
      "metadata": {
        "id": "v8iCEO_OtHVb"
      }
    },
    {
      "cell_type": "markdown",
      "source": [
        "memuat dataset `diabetes.csv` dan melakukan analisis data eksplorasi awal untuk memahami struktur, isi, dan distribusi data."
      ],
      "metadata": {
        "id": "-fLDh5r2u_6L"
      }
    },
    {
      "cell_type": "markdown",
      "source": [
        "### 2.1. Memuat Dataset"
      ],
      "metadata": {
        "id": "W_tObArTt35u"
      }
    },
    {
      "cell_type": "code",
      "source": [
        "# Memuat data dari file CSV ke dalam DataFrame pandas\n",
        "file_path = 'diabetes.csv'\n",
        "df = pd.read_csv(file_path)\n",
        "\n",
        "# Menampilkan 5 baris pertama dari dataset\n",
        "df.head(5)"
      ],
      "metadata": {
        "colab": {
          "base_uri": "https://localhost:8080/",
          "height": 206
        },
        "id": "I7yhG13HtSnX",
        "outputId": "33ddf8fe-dbd6-4b7b-cbbe-2281d6a2858b"
      },
      "execution_count": 2,
      "outputs": [
        {
          "output_type": "execute_result",
          "data": {
            "text/plain": [
              "   Pregnancies  Glucose  BloodPressure  SkinThickness  Insulin   BMI  \\\n",
              "0            6      148             72             35        0  33.6   \n",
              "1            1       85             66             29        0  26.6   \n",
              "2            8      183             64              0        0  23.3   \n",
              "3            1       89             66             23       94  28.1   \n",
              "4            0      137             40             35      168  43.1   \n",
              "\n",
              "   DiabetesPedigreeFunction  Age  Outcome  \n",
              "0                     0.627   50        1  \n",
              "1                     0.351   31        0  \n",
              "2                     0.672   32        1  \n",
              "3                     0.167   21        0  \n",
              "4                     2.288   33        1  "
            ],
            "text/html": [
              "\n",
              "  <div id=\"df-01038b25-f18d-4377-a4fd-00c9ecbd1e59\" class=\"colab-df-container\">\n",
              "    <div>\n",
              "<style scoped>\n",
              "    .dataframe tbody tr th:only-of-type {\n",
              "        vertical-align: middle;\n",
              "    }\n",
              "\n",
              "    .dataframe tbody tr th {\n",
              "        vertical-align: top;\n",
              "    }\n",
              "\n",
              "    .dataframe thead th {\n",
              "        text-align: right;\n",
              "    }\n",
              "</style>\n",
              "<table border=\"1\" class=\"dataframe\">\n",
              "  <thead>\n",
              "    <tr style=\"text-align: right;\">\n",
              "      <th></th>\n",
              "      <th>Pregnancies</th>\n",
              "      <th>Glucose</th>\n",
              "      <th>BloodPressure</th>\n",
              "      <th>SkinThickness</th>\n",
              "      <th>Insulin</th>\n",
              "      <th>BMI</th>\n",
              "      <th>DiabetesPedigreeFunction</th>\n",
              "      <th>Age</th>\n",
              "      <th>Outcome</th>\n",
              "    </tr>\n",
              "  </thead>\n",
              "  <tbody>\n",
              "    <tr>\n",
              "      <th>0</th>\n",
              "      <td>6</td>\n",
              "      <td>148</td>\n",
              "      <td>72</td>\n",
              "      <td>35</td>\n",
              "      <td>0</td>\n",
              "      <td>33.6</td>\n",
              "      <td>0.627</td>\n",
              "      <td>50</td>\n",
              "      <td>1</td>\n",
              "    </tr>\n",
              "    <tr>\n",
              "      <th>1</th>\n",
              "      <td>1</td>\n",
              "      <td>85</td>\n",
              "      <td>66</td>\n",
              "      <td>29</td>\n",
              "      <td>0</td>\n",
              "      <td>26.6</td>\n",
              "      <td>0.351</td>\n",
              "      <td>31</td>\n",
              "      <td>0</td>\n",
              "    </tr>\n",
              "    <tr>\n",
              "      <th>2</th>\n",
              "      <td>8</td>\n",
              "      <td>183</td>\n",
              "      <td>64</td>\n",
              "      <td>0</td>\n",
              "      <td>0</td>\n",
              "      <td>23.3</td>\n",
              "      <td>0.672</td>\n",
              "      <td>32</td>\n",
              "      <td>1</td>\n",
              "    </tr>\n",
              "    <tr>\n",
              "      <th>3</th>\n",
              "      <td>1</td>\n",
              "      <td>89</td>\n",
              "      <td>66</td>\n",
              "      <td>23</td>\n",
              "      <td>94</td>\n",
              "      <td>28.1</td>\n",
              "      <td>0.167</td>\n",
              "      <td>21</td>\n",
              "      <td>0</td>\n",
              "    </tr>\n",
              "    <tr>\n",
              "      <th>4</th>\n",
              "      <td>0</td>\n",
              "      <td>137</td>\n",
              "      <td>40</td>\n",
              "      <td>35</td>\n",
              "      <td>168</td>\n",
              "      <td>43.1</td>\n",
              "      <td>2.288</td>\n",
              "      <td>33</td>\n",
              "      <td>1</td>\n",
              "    </tr>\n",
              "  </tbody>\n",
              "</table>\n",
              "</div>\n",
              "    <div class=\"colab-df-buttons\">\n",
              "\n",
              "  <div class=\"colab-df-container\">\n",
              "    <button class=\"colab-df-convert\" onclick=\"convertToInteractive('df-01038b25-f18d-4377-a4fd-00c9ecbd1e59')\"\n",
              "            title=\"Convert this dataframe to an interactive table.\"\n",
              "            style=\"display:none;\">\n",
              "\n",
              "  <svg xmlns=\"http://www.w3.org/2000/svg\" height=\"24px\" viewBox=\"0 -960 960 960\">\n",
              "    <path d=\"M120-120v-720h720v720H120Zm60-500h600v-160H180v160Zm220 220h160v-160H400v160Zm0 220h160v-160H400v160ZM180-400h160v-160H180v160Zm440 0h160v-160H620v160ZM180-180h160v-160H180v160Zm440 0h160v-160H620v160Z\"/>\n",
              "  </svg>\n",
              "    </button>\n",
              "\n",
              "  <style>\n",
              "    .colab-df-container {\n",
              "      display:flex;\n",
              "      gap: 12px;\n",
              "    }\n",
              "\n",
              "    .colab-df-convert {\n",
              "      background-color: #E8F0FE;\n",
              "      border: none;\n",
              "      border-radius: 50%;\n",
              "      cursor: pointer;\n",
              "      display: none;\n",
              "      fill: #1967D2;\n",
              "      height: 32px;\n",
              "      padding: 0 0 0 0;\n",
              "      width: 32px;\n",
              "    }\n",
              "\n",
              "    .colab-df-convert:hover {\n",
              "      background-color: #E2EBFA;\n",
              "      box-shadow: 0px 1px 2px rgba(60, 64, 67, 0.3), 0px 1px 3px 1px rgba(60, 64, 67, 0.15);\n",
              "      fill: #174EA6;\n",
              "    }\n",
              "\n",
              "    .colab-df-buttons div {\n",
              "      margin-bottom: 4px;\n",
              "    }\n",
              "\n",
              "    [theme=dark] .colab-df-convert {\n",
              "      background-color: #3B4455;\n",
              "      fill: #D2E3FC;\n",
              "    }\n",
              "\n",
              "    [theme=dark] .colab-df-convert:hover {\n",
              "      background-color: #434B5C;\n",
              "      box-shadow: 0px 1px 3px 1px rgba(0, 0, 0, 0.15);\n",
              "      filter: drop-shadow(0px 1px 2px rgba(0, 0, 0, 0.3));\n",
              "      fill: #FFFFFF;\n",
              "    }\n",
              "  </style>\n",
              "\n",
              "    <script>\n",
              "      const buttonEl =\n",
              "        document.querySelector('#df-01038b25-f18d-4377-a4fd-00c9ecbd1e59 button.colab-df-convert');\n",
              "      buttonEl.style.display =\n",
              "        google.colab.kernel.accessAllowed ? 'block' : 'none';\n",
              "\n",
              "      async function convertToInteractive(key) {\n",
              "        const element = document.querySelector('#df-01038b25-f18d-4377-a4fd-00c9ecbd1e59');\n",
              "        const dataTable =\n",
              "          await google.colab.kernel.invokeFunction('convertToInteractive',\n",
              "                                                    [key], {});\n",
              "        if (!dataTable) return;\n",
              "\n",
              "        const docLinkHtml = 'Like what you see? Visit the ' +\n",
              "          '<a target=\"_blank\" href=https://colab.research.google.com/notebooks/data_table.ipynb>data table notebook</a>'\n",
              "          + ' to learn more about interactive tables.';\n",
              "        element.innerHTML = '';\n",
              "        dataTable['output_type'] = 'display_data';\n",
              "        await google.colab.output.renderOutput(dataTable, element);\n",
              "        const docLink = document.createElement('div');\n",
              "        docLink.innerHTML = docLinkHtml;\n",
              "        element.appendChild(docLink);\n",
              "      }\n",
              "    </script>\n",
              "  </div>\n",
              "\n",
              "\n",
              "    <div id=\"df-4a927fc8-79c0-4687-990c-c6ae346095bc\">\n",
              "      <button class=\"colab-df-quickchart\" onclick=\"quickchart('df-4a927fc8-79c0-4687-990c-c6ae346095bc')\"\n",
              "                title=\"Suggest charts\"\n",
              "                style=\"display:none;\">\n",
              "\n",
              "<svg xmlns=\"http://www.w3.org/2000/svg\" height=\"24px\"viewBox=\"0 0 24 24\"\n",
              "     width=\"24px\">\n",
              "    <g>\n",
              "        <path d=\"M19 3H5c-1.1 0-2 .9-2 2v14c0 1.1.9 2 2 2h14c1.1 0 2-.9 2-2V5c0-1.1-.9-2-2-2zM9 17H7v-7h2v7zm4 0h-2V7h2v10zm4 0h-2v-4h2v4z\"/>\n",
              "    </g>\n",
              "</svg>\n",
              "      </button>\n",
              "\n",
              "<style>\n",
              "  .colab-df-quickchart {\n",
              "      --bg-color: #E8F0FE;\n",
              "      --fill-color: #1967D2;\n",
              "      --hover-bg-color: #E2EBFA;\n",
              "      --hover-fill-color: #174EA6;\n",
              "      --disabled-fill-color: #AAA;\n",
              "      --disabled-bg-color: #DDD;\n",
              "  }\n",
              "\n",
              "  [theme=dark] .colab-df-quickchart {\n",
              "      --bg-color: #3B4455;\n",
              "      --fill-color: #D2E3FC;\n",
              "      --hover-bg-color: #434B5C;\n",
              "      --hover-fill-color: #FFFFFF;\n",
              "      --disabled-bg-color: #3B4455;\n",
              "      --disabled-fill-color: #666;\n",
              "  }\n",
              "\n",
              "  .colab-df-quickchart {\n",
              "    background-color: var(--bg-color);\n",
              "    border: none;\n",
              "    border-radius: 50%;\n",
              "    cursor: pointer;\n",
              "    display: none;\n",
              "    fill: var(--fill-color);\n",
              "    height: 32px;\n",
              "    padding: 0;\n",
              "    width: 32px;\n",
              "  }\n",
              "\n",
              "  .colab-df-quickchart:hover {\n",
              "    background-color: var(--hover-bg-color);\n",
              "    box-shadow: 0 1px 2px rgba(60, 64, 67, 0.3), 0 1px 3px 1px rgba(60, 64, 67, 0.15);\n",
              "    fill: var(--button-hover-fill-color);\n",
              "  }\n",
              "\n",
              "  .colab-df-quickchart-complete:disabled,\n",
              "  .colab-df-quickchart-complete:disabled:hover {\n",
              "    background-color: var(--disabled-bg-color);\n",
              "    fill: var(--disabled-fill-color);\n",
              "    box-shadow: none;\n",
              "  }\n",
              "\n",
              "  .colab-df-spinner {\n",
              "    border: 2px solid var(--fill-color);\n",
              "    border-color: transparent;\n",
              "    border-bottom-color: var(--fill-color);\n",
              "    animation:\n",
              "      spin 1s steps(1) infinite;\n",
              "  }\n",
              "\n",
              "  @keyframes spin {\n",
              "    0% {\n",
              "      border-color: transparent;\n",
              "      border-bottom-color: var(--fill-color);\n",
              "      border-left-color: var(--fill-color);\n",
              "    }\n",
              "    20% {\n",
              "      border-color: transparent;\n",
              "      border-left-color: var(--fill-color);\n",
              "      border-top-color: var(--fill-color);\n",
              "    }\n",
              "    30% {\n",
              "      border-color: transparent;\n",
              "      border-left-color: var(--fill-color);\n",
              "      border-top-color: var(--fill-color);\n",
              "      border-right-color: var(--fill-color);\n",
              "    }\n",
              "    40% {\n",
              "      border-color: transparent;\n",
              "      border-right-color: var(--fill-color);\n",
              "      border-top-color: var(--fill-color);\n",
              "    }\n",
              "    60% {\n",
              "      border-color: transparent;\n",
              "      border-right-color: var(--fill-color);\n",
              "    }\n",
              "    80% {\n",
              "      border-color: transparent;\n",
              "      border-right-color: var(--fill-color);\n",
              "      border-bottom-color: var(--fill-color);\n",
              "    }\n",
              "    90% {\n",
              "      border-color: transparent;\n",
              "      border-bottom-color: var(--fill-color);\n",
              "    }\n",
              "  }\n",
              "</style>\n",
              "\n",
              "      <script>\n",
              "        async function quickchart(key) {\n",
              "          const quickchartButtonEl =\n",
              "            document.querySelector('#' + key + ' button');\n",
              "          quickchartButtonEl.disabled = true;  // To prevent multiple clicks.\n",
              "          quickchartButtonEl.classList.add('colab-df-spinner');\n",
              "          try {\n",
              "            const charts = await google.colab.kernel.invokeFunction(\n",
              "                'suggestCharts', [key], {});\n",
              "          } catch (error) {\n",
              "            console.error('Error during call to suggestCharts:', error);\n",
              "          }\n",
              "          quickchartButtonEl.classList.remove('colab-df-spinner');\n",
              "          quickchartButtonEl.classList.add('colab-df-quickchart-complete');\n",
              "        }\n",
              "        (() => {\n",
              "          let quickchartButtonEl =\n",
              "            document.querySelector('#df-4a927fc8-79c0-4687-990c-c6ae346095bc button');\n",
              "          quickchartButtonEl.style.display =\n",
              "            google.colab.kernel.accessAllowed ? 'block' : 'none';\n",
              "        })();\n",
              "      </script>\n",
              "    </div>\n",
              "\n",
              "    </div>\n",
              "  </div>\n"
            ],
            "application/vnd.google.colaboratory.intrinsic+json": {
              "type": "dataframe",
              "variable_name": "df",
              "summary": "{\n  \"name\": \"df\",\n  \"rows\": 768,\n  \"fields\": [\n    {\n      \"column\": \"Pregnancies\",\n      \"properties\": {\n        \"dtype\": \"number\",\n        \"std\": 3,\n        \"min\": 0,\n        \"max\": 17,\n        \"num_unique_values\": 17,\n        \"samples\": [\n          6,\n          1,\n          3\n        ],\n        \"semantic_type\": \"\",\n        \"description\": \"\"\n      }\n    },\n    {\n      \"column\": \"Glucose\",\n      \"properties\": {\n        \"dtype\": \"number\",\n        \"std\": 31,\n        \"min\": 0,\n        \"max\": 199,\n        \"num_unique_values\": 136,\n        \"samples\": [\n          151,\n          101,\n          112\n        ],\n        \"semantic_type\": \"\",\n        \"description\": \"\"\n      }\n    },\n    {\n      \"column\": \"BloodPressure\",\n      \"properties\": {\n        \"dtype\": \"number\",\n        \"std\": 19,\n        \"min\": 0,\n        \"max\": 122,\n        \"num_unique_values\": 47,\n        \"samples\": [\n          86,\n          46,\n          85\n        ],\n        \"semantic_type\": \"\",\n        \"description\": \"\"\n      }\n    },\n    {\n      \"column\": \"SkinThickness\",\n      \"properties\": {\n        \"dtype\": \"number\",\n        \"std\": 15,\n        \"min\": 0,\n        \"max\": 99,\n        \"num_unique_values\": 51,\n        \"samples\": [\n          7,\n          12,\n          48\n        ],\n        \"semantic_type\": \"\",\n        \"description\": \"\"\n      }\n    },\n    {\n      \"column\": \"Insulin\",\n      \"properties\": {\n        \"dtype\": \"number\",\n        \"std\": 115,\n        \"min\": 0,\n        \"max\": 846,\n        \"num_unique_values\": 186,\n        \"samples\": [\n          52,\n          41,\n          183\n        ],\n        \"semantic_type\": \"\",\n        \"description\": \"\"\n      }\n    },\n    {\n      \"column\": \"BMI\",\n      \"properties\": {\n        \"dtype\": \"number\",\n        \"std\": 7.8841603203754405,\n        \"min\": 0.0,\n        \"max\": 67.1,\n        \"num_unique_values\": 248,\n        \"samples\": [\n          19.9,\n          31.0,\n          38.1\n        ],\n        \"semantic_type\": \"\",\n        \"description\": \"\"\n      }\n    },\n    {\n      \"column\": \"DiabetesPedigreeFunction\",\n      \"properties\": {\n        \"dtype\": \"number\",\n        \"std\": 0.33132859501277484,\n        \"min\": 0.078,\n        \"max\": 2.42,\n        \"num_unique_values\": 517,\n        \"samples\": [\n          1.731,\n          0.426,\n          0.138\n        ],\n        \"semantic_type\": \"\",\n        \"description\": \"\"\n      }\n    },\n    {\n      \"column\": \"Age\",\n      \"properties\": {\n        \"dtype\": \"number\",\n        \"std\": 11,\n        \"min\": 21,\n        \"max\": 81,\n        \"num_unique_values\": 52,\n        \"samples\": [\n          60,\n          47,\n          72\n        ],\n        \"semantic_type\": \"\",\n        \"description\": \"\"\n      }\n    },\n    {\n      \"column\": \"Outcome\",\n      \"properties\": {\n        \"dtype\": \"number\",\n        \"std\": 0,\n        \"min\": 0,\n        \"max\": 1,\n        \"num_unique_values\": 2,\n        \"samples\": [\n          0,\n          1\n        ],\n        \"semantic_type\": \"\",\n        \"description\": \"\"\n      }\n    }\n  ]\n}"
            }
          },
          "metadata": {},
          "execution_count": 2
        }
      ]
    },
    {
      "cell_type": "markdown",
      "source": [
        "### 2.2. Informasi Dasar Dataset"
      ],
      "metadata": {
        "id": "Hn6twZHbuGCE"
      }
    },
    {
      "cell_type": "markdown",
      "source": [
        "Melihat informasi dataset, termasuk tipe data setiap kolom dan jumlah data non-null."
      ],
      "metadata": {
        "id": "R3VC6ngQu1t1"
      }
    },
    {
      "cell_type": "code",
      "source": [
        "# Menampilkan informasi ringkas tentang DataFrame\n",
        "print(\"Informasi Dataset:\")\n",
        "df.info()"
      ],
      "metadata": {
        "colab": {
          "base_uri": "https://localhost:8080/",
          "height": 0
        },
        "id": "faBgvJEpuMqg",
        "outputId": "5f2116e1-7822-4177-c7a9-8fd28a284650"
      },
      "execution_count": 3,
      "outputs": [
        {
          "output_type": "stream",
          "name": "stdout",
          "text": [
            "Informasi Dataset:\n",
            "<class 'pandas.core.frame.DataFrame'>\n",
            "RangeIndex: 768 entries, 0 to 767\n",
            "Data columns (total 9 columns):\n",
            " #   Column                    Non-Null Count  Dtype  \n",
            "---  ------                    --------------  -----  \n",
            " 0   Pregnancies               768 non-null    int64  \n",
            " 1   Glucose                   768 non-null    int64  \n",
            " 2   BloodPressure             768 non-null    int64  \n",
            " 3   SkinThickness             768 non-null    int64  \n",
            " 4   Insulin                   768 non-null    int64  \n",
            " 5   BMI                       768 non-null    float64\n",
            " 6   DiabetesPedigreeFunction  768 non-null    float64\n",
            " 7   Age                       768 non-null    int64  \n",
            " 8   Outcome                   768 non-null    int64  \n",
            "dtypes: float64(2), int64(7)\n",
            "memory usage: 54.1 KB\n"
          ]
        }
      ]
    },
    {
      "cell_type": "code",
      "source": [
        "sns.heatmap(df.isnull(),cmap = 'magma',cbar = False)\n",
        "df.isnull().max().sum()"
      ],
      "metadata": {
        "colab": {
          "base_uri": "https://localhost:8080/",
          "height": 621
        },
        "id": "oWms2W9Fucvm",
        "outputId": "ee37ec11-e584-4937-b173-f102916c3593"
      },
      "execution_count": 4,
      "outputs": [
        {
          "output_type": "execute_result",
          "data": {
            "text/plain": [
              "np.int64(0)"
            ]
          },
          "metadata": {},
          "execution_count": 4
        },
        {
          "output_type": "display_data",
          "data": {
            "text/plain": [
              "<Figure size 640x480 with 1 Axes>"
            ],
            "image/png": "[encoded data removed]"
          },
          "metadata": {}
        }
      ]
    },
    {
      "cell_type": "markdown",
      "source": [
        "menurut hasil pengecekan `isnull` dapat dipastikan tidak ada data yang memiliki value null\n",
        "\n",
        "pengecekan `isnull` bisa dilakukan dengan 2 cara yaitu dengan heatmap atau langsung memerikasa menggunakan dataframe\n"
      ],
      "metadata": {
        "id": "NnIdvLDTuoyX"
      }
    },
    {
      "cell_type": "markdown",
      "source": [
        "### 2.3. Statistik Deskriptif"
      ],
      "metadata": {
        "id": "s5iu3MXGvhLQ"
      }
    },
    {
      "cell_type": "markdown",
      "source": [
        "memberikan gambaran tentang bentuk distribusi data."
      ],
      "metadata": {
        "id": "JxuyBfy1vhLR"
      }
    },
    {
      "cell_type": "code",
      "source": [
        "# Menampilkan statistik deskriptif untuk setiap kolom numerik\n",
        "print(\"Statistik Deskriptif:\")\n",
        "df.describe()"
      ],
      "metadata": {
        "colab": {
          "base_uri": "https://localhost:8080/",
          "height": 317
        },
        "id": "N_7e-X91v0ek",
        "outputId": "e00f6d47-5e1c-4a98-998a-2268faea7001"
      },
      "execution_count": 5,
      "outputs": [
        {
          "output_type": "stream",
          "name": "stdout",
          "text": [
            "Statistik Deskriptif:\n"
          ]
        },
        {
          "output_type": "execute_result",
          "data": {
            "text/plain": [
              "       Pregnancies     Glucose  BloodPressure  SkinThickness     Insulin  \\\n",
              "count   768.000000  768.000000     768.000000     768.000000  768.000000   \n",
              "mean      3.845052  120.894531      69.105469      20.536458   79.799479   \n",
              "std       3.369578   31.972618      19.355807      15.952218  115.244002   \n",
              "min       0.000000    0.000000       0.000000       0.000000    0.000000   \n",
              "25%       1.000000   99.000000      62.000000       0.000000    0.000000   \n",
              "50%       3.000000  117.000000      72.000000      23.000000   30.500000   \n",
              "75%       6.000000  140.250000      80.000000      32.000000  127.250000   \n",
              "max      17.000000  199.000000     122.000000      99.000000  846.000000   \n",
              "\n",
              "              BMI  DiabetesPedigreeFunction         Age     Outcome  \n",
              "count  768.000000                768.000000  768.000000  768.000000  \n",
              "mean    31.992578                  0.471876   33.240885    0.348958  \n",
              "std      7.884160                  0.331329   11.760232    0.476951  \n",
              "min      0.000000                  0.078000   21.000000    0.000000  \n",
              "25%     27.300000                  0.243750   24.000000    0.000000  \n",
              "50%     32.000000                  0.372500   29.000000    0.000000  \n",
              "75%     36.600000                  0.626250   41.000000    1.000000  \n",
              "max     67.100000                  2.420000   81.000000    1.000000  "
            ],
            "text/html": [
              "\n",
              "  <div id=\"df-d170b50c-eba1-4405-85cd-330ed4d2005b\" class=\"colab-df-container\">\n",
              "    <div>\n",
              "<style scoped>\n",
              "    .dataframe tbody tr th:only-of-type {\n",
              "        vertical-align: middle;\n",
              "    }\n",
              "\n",
              "    .dataframe tbody tr th {\n",
              "        vertical-align: top;\n",
              "    }\n",
              "\n",
              "    .dataframe thead th {\n",
              "        text-align: right;\n",
              "    }\n",
              "</style>\n",
              "<table border=\"1\" class=\"dataframe\">\n",
              "  <thead>\n",
              "    <tr style=\"text-align: right;\">\n",
              "      <th></th>\n",
              "      <th>Pregnancies</th>\n",
              "      <th>Glucose</th>\n",
              "      <th>BloodPressure</th>\n",
              "      <th>SkinThickness</th>\n",
              "      <th>Insulin</th>\n",
              "      <th>BMI</th>\n",
              "      <th>DiabetesPedigreeFunction</th>\n",
              "      <th>Age</th>\n",
              "      <th>Outcome</th>\n",
              "    </tr>\n",
              "  </thead>\n",
              "  <tbody>\n",
              "    <tr>\n",
              "      <th>count</th>\n",
              "      <td>768.000000</td>\n",
              "      <td>768.000000</td>\n",
              "      <td>768.000000</td>\n",
              "      <td>768.000000</td>\n",
              "      <td>768.000000</td>\n",
              "      <td>768.000000</td>\n",
              "      <td>768.000000</td>\n",
              "      <td>768.000000</td>\n",
              "      <td>768.000000</td>\n",
              "    </tr>\n",
              "    <tr>\n",
              "      <th>mean</th>\n",
              "      <td>3.845052</td>\n",
              "      <td>120.894531</td>\n",
              "      <td>69.105469</td>\n",
              "      <td>20.536458</td>\n",
              "      <td>79.799479</td>\n",
              "      <td>31.992578</td>\n",
              "      <td>0.471876</td>\n",
              "      <td>33.240885</td>\n",
              "      <td>0.348958</td>\n",
              "    </tr>\n",
              "    <tr>\n",
              "      <th>std</th>\n",
              "      <td>3.369578</td>\n",
              "      <td>31.972618</td>\n",
              "      <td>19.355807</td>\n",
              "      <td>15.952218</td>\n",
              "      <td>115.244002</td>\n",
              "      <td>7.884160</td>\n",
              "      <td>0.331329</td>\n",
              "      <td>11.760232</td>\n",
              "      <td>0.476951</td>\n",
              "    </tr>\n",
              "    <tr>\n",
              "      <th>min</th>\n",
              "      <td>0.000000</td>\n",
              "      <td>0.000000</td>\n",
              "      <td>0.000000</td>\n",
              "      <td>0.000000</td>\n",
              "      <td>0.000000</td>\n",
              "      <td>0.000000</td>\n",
              "      <td>0.078000</td>\n",
              "      <td>21.000000</td>\n",
              "      <td>0.000000</td>\n",
              "    </tr>\n",
              "    <tr>\n",
              "      <th>25%</th>\n",
              "      <td>1.000000</td>\n",
              "      <td>99.000000</td>\n",
              "      <td>62.000000</td>\n",
              "      <td>0.000000</td>\n",
              "      <td>0.000000</td>\n",
              "      <td>27.300000</td>\n",
              "      <td>0.243750</td>\n",
              "      <td>24.000000</td>\n",
              "      <td>0.000000</td>\n",
              "    </tr>\n",
              "    <tr>\n",
              "      <th>50%</th>\n",
              "      <td>3.000000</td>\n",
              "      <td>117.000000</td>\n",
              "      <td>72.000000</td>\n",
              "      <td>23.000000</td>\n",
              "      <td>30.500000</td>\n",
              "      <td>32.000000</td>\n",
              "      <td>0.372500</td>\n",
              "      <td>29.000000</td>\n",
              "      <td>0.000000</td>\n",
              "    </tr>\n",
              "    <tr>\n",
              "      <th>75%</th>\n",
              "      <td>6.000000</td>\n",
              "      <td>140.250000</td>\n",
              "      <td>80.000000</td>\n",
              "      <td>32.000000</td>\n",
              "      <td>127.250000</td>\n",
              "      <td>36.600000</td>\n",
              "      <td>0.626250</td>\n",
              "      <td>41.000000</td>\n",
              "      <td>1.000000</td>\n",
              "    </tr>\n",
              "    <tr>\n",
              "      <th>max</th>\n",
              "      <td>17.000000</td>\n",
              "      <td>199.000000</td>\n",
              "      <td>122.000000</td>\n",
              "      <td>99.000000</td>\n",
              "      <td>846.000000</td>\n",
              "      <td>67.100000</td>\n",
              "      <td>2.420000</td>\n",
              "      <td>81.000000</td>\n",
              "      <td>1.000000</td>\n",
              "    </tr>\n",
              "  </tbody>\n",
              "</table>\n",
              "</div>\n",
              "    <div class=\"colab-df-buttons\">\n",
              "\n",
              "  <div class=\"colab-df-container\">\n",
              "    <button class=\"colab-df-convert\" onclick=\"convertToInteractive('df-d170b50c-eba1-4405-85cd-330ed4d2005b')\"\n",
              "            title=\"Convert this dataframe to an interactive table.\"\n",
              "            style=\"display:none;\">\n",
              "\n",
              "  <svg xmlns=\"http://www.w3.org/2000/svg\" height=\"24px\" viewBox=\"0 -960 960 960\">\n",
              "    <path d=\"M120-120v-720h720v720H120Zm60-500h600v-160H180v160Zm220 220h160v-160H400v160Zm0 220h160v-160H400v160ZM180-400h160v-160H180v160Zm440 0h160v-160H620v160ZM180-180h160v-160H180v160Zm440 0h160v-160H620v160Z\"/>\n",
              "  </svg>\n",
              "    </button>\n",
              "\n",
              "  <style>\n",
              "    .colab-df-container {\n",
              "      display:flex;\n",
              "      gap: 12px;\n",
              "    }\n",
              "\n",
              "    .colab-df-convert {\n",
              "      background-color: #E8F0FE;\n",
              "      border: none;\n",
              "      border-radius: 50%;\n",
              "      cursor: pointer;\n",
              "      display: none;\n",
              "      fill: #1967D2;\n",
              "      height: 32px;\n",
              "      padding: 0 0 0 0;\n",
              "      width: 32px;\n",
              "    }\n",
              "\n",
              "    .colab-df-convert:hover {\n",
              "      background-color: #E2EBFA;\n",
              "      box-shadow: 0px 1px 2px rgba(60, 64, 67, 0.3), 0px 1px 3px 1px rgba(60, 64, 67, 0.15);\n",
              "      fill: #174EA6;\n",
              "    }\n",
              "\n",
              "    .colab-df-buttons div {\n",
              "      margin-bottom: 4px;\n",
              "    }\n",
              "\n",
              "    [theme=dark] .colab-df-convert {\n",
              "      background-color: #3B4455;\n",
              "      fill: #D2E3FC;\n",
              "    }\n",
              "\n",
              "    [theme=dark] .colab-df-convert:hover {\n",
              "      background-color: #434B5C;\n",
              "      box-shadow: 0px 1px 3px 1px rgba(0, 0, 0, 0.15);\n",
              "      filter: drop-shadow(0px 1px 2px rgba(0, 0, 0, 0.3));\n",
              "      fill: #FFFFFF;\n",
              "    }\n",
              "  </style>\n",
              "\n",
              "    <script>\n",
              "      const buttonEl =\n",
              "        document.querySelector('#df-d170b50c-eba1-4405-85cd-330ed4d2005b button.colab-df-convert');\n",
              "      buttonEl.style.display =\n",
              "        google.colab.kernel.accessAllowed ? 'block' : 'none';\n",
              "\n",
              "      async function convertToInteractive(key) {\n",
              "        const element = document.querySelector('#df-d170b50c-eba1-4405-85cd-330ed4d2005b');\n",
              "        const dataTable =\n",
              "          await google.colab.kernel.invokeFunction('convertToInteractive',\n",
              "                                                    [key], {});\n",
              "        if (!dataTable) return;\n",
              "\n",
              "        const docLinkHtml = 'Like what you see? Visit the ' +\n",
              "          '<a target=\"_blank\" href=https://colab.research.google.com/notebooks/data_table.ipynb>data table notebook</a>'\n",
              "          + ' to learn more about interactive tables.';\n",
              "        element.innerHTML = '';\n",
              "        dataTable['output_type'] = 'display_data';\n",
              "        await google.colab.output.renderOutput(dataTable, element);\n",
              "        const docLink = document.createElement('div');\n",
              "        docLink.innerHTML = docLinkHtml;\n",
              "        element.appendChild(docLink);\n",
              "      }\n",
              "    </script>\n",
              "  </div>\n",
              "\n",
              "\n",
              "    <div id=\"df-61252697-8165-4a35-95f9-da4a582f290c\">\n",
              "      <button class=\"colab-df-quickchart\" onclick=\"quickchart('df-61252697-8165-4a35-95f9-da4a582f290c')\"\n",
              "                title=\"Suggest charts\"\n",
              "                style=\"display:none;\">\n",
              "\n",
              "<svg xmlns=\"http://www.w3.org/2000/svg\" height=\"24px\"viewBox=\"0 0 24 24\"\n",
              "     width=\"24px\">\n",
              "    <g>\n",
              "        <path d=\"M19 3H5c-1.1 0-2 .9-2 2v14c0 1.1.9 2 2 2h14c1.1 0 2-.9 2-2V5c0-1.1-.9-2-2-2zM9 17H7v-7h2v7zm4 0h-2V7h2v10zm4 0h-2v-4h2v4z\"/>\n",
              "    </g>\n",
              "</svg>\n",
              "      </button>\n",
              "\n",
              "<style>\n",
              "  .colab-df-quickchart {\n",
              "      --bg-color: #E8F0FE;\n",
              "      --fill-color: #1967D2;\n",
              "      --hover-bg-color: #E2EBFA;\n",
              "      --hover-fill-color: #174EA6;\n",
              "      --disabled-fill-color: #AAA;\n",
              "      --disabled-bg-color: #DDD;\n",
              "  }\n",
              "\n",
              "  [theme=dark] .colab-df-quickchart {\n",
              "      --bg-color: #3B4455;\n",
              "      --fill-color: #D2E3FC;\n",
              "      --hover-bg-color: #434B5C;\n",
              "      --hover-fill-color: #FFFFFF;\n",
              "      --disabled-bg-color: #3B4455;\n",
              "      --disabled-fill-color: #666;\n",
              "  }\n",
              "\n",
              "  .colab-df-quickchart {\n",
              "    background-color: var(--bg-color);\n",
              "    border: none;\n",
              "    border-radius: 50%;\n",
              "    cursor: pointer;\n",
              "    display: none;\n",
              "    fill: var(--fill-color);\n",
              "    height: 32px;\n",
              "    padding: 0;\n",
              "    width: 32px;\n",
              "  }\n",
              "\n",
              "  .colab-df-quickchart:hover {\n",
              "    background-color: var(--hover-bg-color);\n",
              "    box-shadow: 0 1px 2px rgba(60, 64, 67, 0.3), 0 1px 3px 1px rgba(60, 64, 67, 0.15);\n",
              "    fill: var(--button-hover-fill-color);\n",
              "  }\n",
              "\n",
              "  .colab-df-quickchart-complete:disabled,\n",
              "  .colab-df-quickchart-complete:disabled:hover {\n",
              "    background-color: var(--disabled-bg-color);\n",
              "    fill: var(--disabled-fill-color);\n",
              "    box-shadow: none;\n",
              "  }\n",
              "\n",
              "  .colab-df-spinner {\n",
              "    border: 2px solid var(--fill-color);\n",
              "    border-color: transparent;\n",
              "    border-bottom-color: var(--fill-color);\n",
              "    animation:\n",
              "      spin 1s steps(1) infinite;\n",
              "  }\n",
              "\n",
              "  @keyframes spin {\n",
              "    0% {\n",
              "      border-color: transparent;\n",
              "      border-bottom-color: var(--fill-color);\n",
              "      border-left-color: var(--fill-color);\n",
              "    }\n",
              "    20% {\n",
              "      border-color: transparent;\n",
              "      border-left-color: var(--fill-color);\n",
              "      border-top-color: var(--fill-color);\n",
              "    }\n",
              "    30% {\n",
              "      border-color: transparent;\n",
              "      border-left-color: var(--fill-color);\n",
              "      border-top-color: var(--fill-color);\n",
              "      border-right-color: var(--fill-color);\n",
              "    }\n",
              "    40% {\n",
              "      border-color: transparent;\n",
              "      border-right-color: var(--fill-color);\n",
              "      border-top-color: var(--fill-color);\n",
              "    }\n",
              "    60% {\n",
              "      border-color: transparent;\n",
              "      border-right-color: var(--fill-color);\n",
              "    }\n",
              "    80% {\n",
              "      border-color: transparent;\n",
              "      border-right-color: var(--fill-color);\n",
              "      border-bottom-color: var(--fill-color);\n",
              "    }\n",
              "    90% {\n",
              "      border-color: transparent;\n",
              "      border-bottom-color: var(--fill-color);\n",
              "    }\n",
              "  }\n",
              "</style>\n",
              "\n",
              "      <script>\n",
              "        async function quickchart(key) {\n",
              "          const quickchartButtonEl =\n",
              "            document.querySelector('#' + key + ' button');\n",
              "          quickchartButtonEl.disabled = true;  // To prevent multiple clicks.\n",
              "          quickchartButtonEl.classList.add('colab-df-spinner');\n",
              "          try {\n",
              "            const charts = await google.colab.kernel.invokeFunction(\n",
              "                'suggestCharts', [key], {});\n",
              "          } catch (error) {\n",
              "            console.error('Error during call to suggestCharts:', error);\n",
              "          }\n",
              "          quickchartButtonEl.classList.remove('colab-df-spinner');\n",
              "          quickchartButtonEl.classList.add('colab-df-quickchart-complete');\n",
              "        }\n",
              "        (() => {\n",
              "          let quickchartButtonEl =\n",
              "            document.querySelector('#df-61252697-8165-4a35-95f9-da4a582f290c button');\n",
              "          quickchartButtonEl.style.display =\n",
              "            google.colab.kernel.accessAllowed ? 'block' : 'none';\n",
              "        })();\n",
              "      </script>\n",
              "    </div>\n",
              "\n",
              "    </div>\n",
              "  </div>\n"
            ],
            "application/vnd.google.colaboratory.intrinsic+json": {
              "type": "dataframe",
              "summary": "{\n  \"name\": \"df\",\n  \"rows\": 8,\n  \"fields\": [\n    {\n      \"column\": \"Pregnancies\",\n      \"properties\": {\n        \"dtype\": \"number\",\n        \"std\": 269.85223453356366,\n        \"min\": 0.0,\n        \"max\": 768.0,\n        \"num_unique_values\": 8,\n        \"samples\": [\n          3.8450520833333335,\n          3.0,\n          768.0\n        ],\n        \"semantic_type\": \"\",\n        \"description\": \"\"\n      }\n    },\n    {\n      \"column\": \"Glucose\",\n      \"properties\": {\n        \"dtype\": \"number\",\n        \"std\": 243.73802348295857,\n        \"min\": 0.0,\n        \"max\": 768.0,\n        \"num_unique_values\": 8,\n        \"samples\": [\n          120.89453125,\n          117.0,\n          768.0\n        ],\n        \"semantic_type\": \"\",\n        \"description\": \"\"\n      }\n    },\n    {\n      \"column\": \"BloodPressure\",\n      \"properties\": {\n        \"dtype\": \"number\",\n        \"std\": 252.85250535810619,\n        \"min\": 0.0,\n        \"max\": 768.0,\n        \"num_unique_values\": 8,\n        \"samples\": [\n          69.10546875,\n          72.0,\n          768.0\n        ],\n        \"semantic_type\": \"\",\n        \"description\": \"\"\n      }\n    },\n    {\n      \"column\": \"SkinThickness\",\n      \"properties\": {\n        \"dtype\": \"number\",\n        \"std\": 263.7684730531098,\n        \"min\": 0.0,\n        \"max\": 768.0,\n        \"num_unique_values\": 7,\n        \"samples\": [\n          768.0,\n          20.536458333333332,\n          32.0\n        ],\n        \"semantic_type\": \"\",\n        \"description\": \"\"\n      }\n    },\n    {\n      \"column\": \"Insulin\",\n      \"properties\": {\n        \"dtype\": \"number\",\n        \"std\": 350.26059167945886,\n        \"min\": 0.0,\n        \"max\": 846.0,\n        \"num_unique_values\": 7,\n        \"samples\": [\n          768.0,\n          79.79947916666667,\n          127.25\n        ],\n        \"semantic_type\": \"\",\n        \"description\": \"\"\n      }\n    },\n    {\n      \"column\": \"BMI\",\n      \"properties\": {\n        \"dtype\": \"number\",\n        \"std\": 262.05117817552093,\n        \"min\": 0.0,\n        \"max\": 768.0,\n        \"num_unique_values\": 8,\n        \"samples\": [\n          31.992578124999998,\n          32.0,\n          768.0\n        ],\n        \"semantic_type\": \"\",\n        \"description\": \"\"\n      }\n    },\n    {\n      \"column\": \"DiabetesPedigreeFunction\",\n      \"properties\": {\n        \"dtype\": \"number\",\n        \"std\": 271.3005221658502,\n        \"min\": 0.078,\n        \"max\": 768.0,\n        \"num_unique_values\": 8,\n        \"samples\": [\n          0.47187630208333325,\n          0.3725,\n          768.0\n        ],\n        \"semantic_type\": \"\",\n        \"description\": \"\"\n      }\n    },\n    {\n      \"column\": \"Age\",\n      \"properties\": {\n        \"dtype\": \"number\",\n        \"std\": 260.1941178528413,\n        \"min\": 11.76023154067868,\n        \"max\": 768.0,\n        \"num_unique_values\": 8,\n        \"samples\": [\n          33.240885416666664,\n          29.0,\n          768.0\n        ],\n        \"semantic_type\": \"\",\n        \"description\": \"\"\n      }\n    },\n    {\n      \"column\": \"Outcome\",\n      \"properties\": {\n        \"dtype\": \"number\",\n        \"std\": 271.3865920388932,\n        \"min\": 0.0,\n        \"max\": 768.0,\n        \"num_unique_values\": 5,\n        \"samples\": [\n          0.3489583333333333,\n          1.0,\n          0.4769513772427971\n        ],\n        \"semantic_type\": \"\",\n        \"description\": \"\"\n      }\n    }\n  ]\n}"
            }
          },
          "metadata": {},
          "execution_count": 5
        }
      ]
    },
    {
      "cell_type": "markdown",
      "source": [
        "### 2.4. Pengecekan Missing Values"
      ],
      "metadata": {
        "id": "LNgBRFOmwJaX"
      }
    },
    {
      "cell_type": "markdown",
      "source": [
        "Dari output `df.info()`, tampaknya tidak ada nilai null. Namun, dalam dataset ini, nilai nol pada beberapa kolom seperti Glucose, BloodPressure, SkinThickness, Insulin, dan BMI secara logis tidak mungkin dan sering kali digunakan untuk menandakan data yang hilang."
      ],
      "metadata": {
        "id": "b8dsB4wYwJaX"
      }
    },
    {
      "cell_type": "code",
      "source": [
        "# Menghitung jumlah nilai nol di setiap kolom\n",
        "print(\"Jumlah Nilai Nol di Setiap Kolom:\")\n",
        "print((df[['Glucose', 'BloodPressure', 'SkinThickness', 'Insulin', 'BMI']] == 0).sum())"
      ],
      "metadata": {
        "colab": {
          "base_uri": "https://localhost:8080/",
          "height": 0
        },
        "id": "Aha3UtuBwVio",
        "outputId": "53e4454e-61f2-45e7-f99d-7742ab2b3a49"
      },
      "execution_count": 6,
      "outputs": [
        {
          "output_type": "stream",
          "name": "stdout",
          "text": [
            "Jumlah Nilai Nol di Setiap Kolom:\n",
            "Glucose            5\n",
            "BloodPressure     35\n",
            "SkinThickness    227\n",
            "Insulin          374\n",
            "BMI               11\n",
            "dtype: int64\n"
          ]
        }
      ]
    },
    {
      "cell_type": "markdown",
      "source": [
        "Terlihat ada sejumlah besar nilai nol pada kolom-kolom kritis yang seharusnya tidak bernilai nol. Nilai-nilai ini harus ditangani sebagai data yang hilang."
      ],
      "metadata": {
        "id": "3zRS4xMJwh6b"
      }
    },
    {
      "cell_type": "markdown",
      "source": [
        "### 2.5. Distribusi Kelas Target"
      ],
      "metadata": {
        "id": "sh7ELik9wmyc"
      }
    },
    {
      "cell_type": "markdown",
      "source": [
        "Melihat distribusi variabel target (`Outcome`) untuk mengetahui apakah dataset seimbang atau tidak."
      ],
      "metadata": {
        "id": "H2lWsTyVwmyc"
      }
    },
    {
      "cell_type": "code",
      "source": [
        "# Visualisasi distribusi kelas target\n",
        "plt.figure(figsize=(6, 5))\n",
        "sns.countplot(x='Outcome', data=df)\n",
        "plt.title('Distribusi Kelas Target (0: Tidak Diabetes, 1: Diabetes)')\n",
        "plt.xlabel('Outcome')\n",
        "plt.ylabel('Jumlah')\n",
        "plt.show()"
      ],
      "metadata": {
        "colab": {
          "base_uri": "https://localhost:8080/",
          "height": 487
        },
        "id": "D-_C3hyWw9Zw",
        "outputId": "774ce1f3-c34c-4b23-a9ee-65ac8d23db84"
      },
      "execution_count": 7,
      "outputs": [
        {
          "output_type": "display_data",
          "data": {
            "text/plain": [
              "<Figure size 600x500 with 1 Axes>"
            ],
            "image/png": "[encoded data removed]"
          },
          "metadata": {}
        }
      ]
    },
    {
      "cell_type": "markdown",
      "source": [
        "Dataset ini tidak seimbang, di mana jumlah pasien yang tidak didiagnosis menderita diabetes (`Outcome=0`) secara signifikan lebih banyak daripada yang didiagnosis menderita diabetes (`Outcome=1`)."
      ],
      "metadata": {
        "id": "P49lWwW7xEFY"
      }
    },
    {
      "cell_type": "markdown",
      "source": [],
      "metadata": {
        "id": "UVj-7qFcxXxA"
      }
    },
    {
      "cell_type": "markdown",
      "source": [
        "## 3. Pra-pemrosesan Data (Data Preprocessing)"
      ],
      "metadata": {
        "id": "PFBZXuZjxfGk"
      }
    },
    {
      "cell_type": "markdown",
      "source": [
        "### 3.1. Menangani Nilai Nol"
      ],
      "metadata": {
        "id": "qH6FIKNbxp0Z"
      }
    },
    {
      "cell_type": "markdown",
      "source": [
        "mengganti nilai nol pada kolom `Glucose`, `BloodPressure`, `SkinThickness`, `Insulin`, dan `BMI` dengan nilai median dari masing-masing kolom. Median dipilih karena lebih tahan terhadap outlier dibandingkan dengan mean."
      ],
      "metadata": {
        "id": "lrVkYNC93Llo"
      }
    },
    {
      "cell_type": "code",
      "source": [
        "# Kolom yang akan diimputasi\n",
        "cols_to_impute = ['Glucose', 'BloodPressure', 'SkinThickness', 'Insulin', 'BMI']\n",
        "\n",
        "# Mengganti nilai 0 dengan NaN untuk kolom yang dipilih\n",
        "for col in cols_to_impute:\n",
        "    df[col] = df[col].replace(0, np.nan)\n",
        "\n",
        "# Mengisi nilai NaN dengan median dari masing-masing kolom\n",
        "for col in cols_to_impute:\n",
        "    median_val = df[col].median()\n",
        "    df[col] = df[col].fillna(median_val)\n",
        "\n",
        "# Memverifikasi bahwa tidak ada lagi nilai 0 pada kolom yang telah diimputasi\n",
        "print(\"Jumlah Nilai 0 / NaN Setelah Ditangani:\")\n",
        "(df[cols_to_impute].isnull().sum())"
      ],
      "metadata": {
        "colab": {
          "base_uri": "https://localhost:8080/",
          "height": 258
        },
        "id": "iwfB4YDay6iS",
        "outputId": "0522dcd5-c918-429a-ad81-0b755c73ced3"
      },
      "execution_count": 8,
      "outputs": [
        {
          "output_type": "stream",
          "name": "stdout",
          "text": [
            "Jumlah Nilai 0 / NaN Setelah Ditangani:\n"
          ]
        },
        {
          "output_type": "execute_result",
          "data": {
            "text/plain": [
              "Glucose          0\n",
              "BloodPressure    0\n",
              "SkinThickness    0\n",
              "Insulin          0\n",
              "BMI              0\n",
              "dtype: int64"
            ],
            "text/html": [
              "<div>\n",
              "<style scoped>\n",
              "    .dataframe tbody tr th:only-of-type {\n",
              "        vertical-align: middle;\n",
              "    }\n",
              "\n",
              "    .dataframe tbody tr th {\n",
              "        vertical-align: top;\n",
              "    }\n",
              "\n",
              "    .dataframe thead th {\n",
              "        text-align: right;\n",
              "    }\n",
              "</style>\n",
              "<table border=\"1\" class=\"dataframe\">\n",
              "  <thead>\n",
              "    <tr style=\"text-align: right;\">\n",
              "      <th></th>\n",
              "      <th>0</th>\n",
              "    </tr>\n",
              "  </thead>\n",
              "  <tbody>\n",
              "    <tr>\n",
              "      <th>Glucose</th>\n",
              "      <td>0</td>\n",
              "    </tr>\n",
              "    <tr>\n",
              "      <th>BloodPressure</th>\n",
              "      <td>0</td>\n",
              "    </tr>\n",
              "    <tr>\n",
              "      <th>SkinThickness</th>\n",
              "      <td>0</td>\n",
              "    </tr>\n",
              "    <tr>\n",
              "      <th>Insulin</th>\n",
              "      <td>0</td>\n",
              "    </tr>\n",
              "    <tr>\n",
              "      <th>BMI</th>\n",
              "      <td>0</td>\n",
              "    </tr>\n",
              "  </tbody>\n",
              "</table>\n",
              "</div><br><label><b>dtype:</b> int64</label>"
            ]
          },
          "metadata": {},
          "execution_count": 8
        }
      ]
    },
    {
      "cell_type": "markdown",
      "source": [
        "### 3.2. Pemisahan Fitur"
      ],
      "metadata": {
        "id": "8ZD7scRdxvvC"
      }
    },
    {
      "cell_type": "markdown",
      "source": [
        "memisahkan dataset menjadi fitur (variabel independen, X) dan target (variabel dependen, y)."
      ],
      "metadata": {
        "id": "gVVZWGmP3iyI"
      }
    },
    {
      "cell_type": "code",
      "source": [
        "# Memisahkan fitur (X) dan target (y)\n",
        "X = df.drop('Outcome', axis=1)\n",
        "y = df['Outcome']"
      ],
      "metadata": {
        "id": "H2AkIZ3EykYP"
      },
      "execution_count": 9,
      "outputs": []
    },
    {
      "cell_type": "markdown",
      "source": [
        "### 3.3. Fitur Scaling"
      ],
      "metadata": {
        "id": "cFptTHCwxv4a"
      }
    },
    {
      "cell_type": "markdown",
      "source": [
        "Banyak algoritma ML (seperti `Logistic Regression` dan `SVM`) bekerja lebih baik ketika fitur-fitur numerik berada pada skala yang sama. pada sistem akan menggunakan `StandardScaler` untuk melakukan standardisasi."
      ],
      "metadata": {
        "id": "96Ib3ps93qUt"
      }
    },
    {
      "cell_type": "code",
      "source": [
        "# Inisialisasi StandardScaler\n",
        "scaler = StandardScaler()\n",
        "\n",
        "# Melakukan scaling pada fitur X\n",
        "X_scaled = scaler.fit_transform(X)\n",
        "\n",
        "# Mengubah hasil scaling kembali ke DataFrame untuk kemudahan pembacaan\n",
        "X_scaled = pd.DataFrame(X_scaled, columns=X.columns)\n",
        "\n",
        "print(\"Lima Baris Pertama Data Setelah Scaling:\")\n",
        "print(X_scaled.head())"
      ],
      "metadata": {
        "colab": {
          "base_uri": "https://localhost:8080/",
          "height": 0
        },
        "id": "YihtJP4gyyDZ",
        "outputId": "d073af16-86e4-4c23-9380-de4fc9b91b31"
      },
      "execution_count": 10,
      "outputs": [
        {
          "output_type": "stream",
          "name": "stdout",
          "text": [
            "Lima Baris Pertama Data Setelah Scaling:\n",
            "   Pregnancies   Glucose  BloodPressure  SkinThickness   Insulin       BMI  \\\n",
            "0     0.639947  0.866045      -0.031990       0.670643 -0.181541  0.166619   \n",
            "1    -0.844885 -1.205066      -0.528319      -0.012301 -0.181541 -0.852200   \n",
            "2     1.233880  2.016662      -0.693761      -0.012301 -0.181541 -1.332500   \n",
            "3    -0.844885 -1.073567      -0.528319      -0.695245 -0.540642 -0.633881   \n",
            "4    -1.141852  0.504422      -2.679076       0.670643  0.316566  1.549303   \n",
            "\n",
            "   DiabetesPedigreeFunction       Age  \n",
            "0                  0.468492  1.425995  \n",
            "1                 -0.365061 -0.190672  \n",
            "2                  0.604397 -0.105584  \n",
            "3                 -0.920763 -1.041549  \n",
            "4                  5.484909 -0.020496  \n"
          ]
        }
      ]
    },
    {
      "cell_type": "markdown",
      "source": [
        "### 3.4. Pembagian Data"
      ],
      "metadata": {
        "id": "Fos0oENDxwBM"
      }
    },
    {
      "cell_type": "markdown",
      "source": [
        "data dibagi menjadi set pelatihan (`80%`) dan set pengujian (`20%`) untuk melatih dan mengevaluasi model secara objektif."
      ],
      "metadata": {
        "id": "fWJR05Tw4D8N"
      }
    },
    {
      "cell_type": "code",
      "source": [
        "# Membagi data menjadi data latih dan data uji (80% latih, 20% uji)\n",
        "X_train, X_test, y_train, y_test = train_test_split(X_scaled, y, test_size=0.2, random_state=42, stratify=y)\n",
        "\n",
        "print(f\"Ukuran Data Latih (X_train): {X_train.shape}\")\n",
        "print(f\"Ukuran Data Uji (X_test): {X_test.shape}\")\n",
        "print(f\"Ukuran Target Latih (y_train): {y_train.shape}\")\n",
        "print(f\"Ukuran Target Uji (y_test): {y_test.shape}\")"
      ],
      "metadata": {
        "colab": {
          "base_uri": "https://localhost:8080/",
          "height": 0
        },
        "id": "0Max70Izy1N8",
        "outputId": "9c058aa7-d52e-4978-c884-defccf2b1f13"
      },
      "execution_count": 11,
      "outputs": [
        {
          "output_type": "stream",
          "name": "stdout",
          "text": [
            "Ukuran Data Latih (X_train): (614, 8)\n",
            "Ukuran Data Uji (X_test): (154, 8)\n",
            "Ukuran Target Latih (y_train): (614,)\n",
            "Ukuran Target Uji (y_test): (154,)\n"
          ]
        }
      ]
    },
    {
      "cell_type": "markdown",
      "source": [
        "## 4. Modeling & Training"
      ],
      "metadata": {
        "id": "4hcD5I2izUiO"
      }
    },
    {
      "cell_type": "markdown",
      "source": [
        "melatih lima model klasifikasi yang berbeda menggunakan data latih yang telah diproses."
      ],
      "metadata": {
        "id": "76fCsVf94i9y"
      }
    },
    {
      "cell_type": "code",
      "source": [
        "# Inisialisasi model\n",
        "models = {\n",
        "    \"Logistic Regression\": LogisticRegression(random_state=42),\n",
        "    \"K-Nearest Neighbors\": KNeighborsClassifier(),\n",
        "    \"Support Vector Machine\": SVC(random_state=42, probability=True),\n",
        "    \"Decision Tree\": DecisionTreeClassifier(random_state=42),\n",
        "    \"Random Forest\": RandomForestClassifier(random_state=42)\n",
        "}\n",
        "\n",
        "# Melatih setiap model\n",
        "for name, model in models.items():\n",
        "    model.fit(X_train, y_train)\n",
        "    print(f\"Model '{name}' telah dilatih.\")"
      ],
      "metadata": {
        "colab": {
          "base_uri": "https://localhost:8080/",
          "height": 0
        },
        "id": "fRSBj6TBzZXC",
        "outputId": "7a1a2966-9740-4aa6-f6ca-85b880fb16aa"
      },
      "execution_count": 12,
      "outputs": [
        {
          "output_type": "stream",
          "name": "stdout",
          "text": [
            "Model 'Logistic Regression' telah dilatih.\n",
            "Model 'K-Nearest Neighbors' telah dilatih.\n",
            "Model 'Support Vector Machine' telah dilatih.\n",
            "Model 'Decision Tree' telah dilatih.\n",
            "Model 'Random Forest' telah dilatih.\n"
          ]
        }
      ]
    },
    {
      "cell_type": "markdown",
      "source": [
        "## 5. Evaluasi Model"
      ],
      "metadata": {
        "id": "hbAP53uMzd2Z"
      }
    },
    {
      "cell_type": "markdown",
      "source": [
        "Setelah melakukan pelatihan, maka data akan dievaluasi dari kinerja setiap model pada data uji menggunakan metrik klasifikasi."
      ],
      "metadata": {
        "id": "dkGOCI8q4qKZ"
      }
    },
    {
      "cell_type": "code",
      "source": [
        "# Dictionary untuk menyimpan hasil evaluasi\n",
        "results = {}\n",
        "\n",
        "# Membuat grid subplot 2 baris x 3 kolom.\n",
        "# figsize diatur agar keseluruhan gambar cukup besar.\n",
        "fig, axes = plt.subplots(nrows=2, ncols=3, figsize=(20, 10))\n",
        "\n",
        "# Menambahkan judul utama untuk keseluruhan gambar\n",
        "fig.suptitle('Perbandingan Confusion Matrix untuk Setiap Model', fontsize=16)\n",
        "\n",
        "# Mengubah array axes 2D menjadi 1D agar mudah di-loop\n",
        "axes = axes.flatten()\n",
        "\n",
        "# Melakukan prediksi dan evaluasi untuk setiap model\n",
        "for i, (name, model) in enumerate(models.items()):\n",
        "    # Membuat prediksi pada data uji\n",
        "    y_pred = model.predict(X_test)\n",
        "\n",
        "    # Menghitung metrik evaluasi\n",
        "    accuracy = accuracy_score(y_test, y_pred)\n",
        "    precision = precision_score(y_test, y_pred)\n",
        "    recall = recall_score(y_test, y_pred)\n",
        "    f1 = f1_score(y_test, y_pred)\n",
        "\n",
        "    # Menyimpan hasil\n",
        "    results[name] = {\n",
        "        \"Accuracy\": accuracy,\n",
        "        \"Precision\": precision,\n",
        "        \"Recall\": recall,\n",
        "        \"F1-Score\": f1\n",
        "    }\n",
        "\n",
        "# membuat confusion matrix pada subplot (axes) yang sesuai\n",
        "    cm = confusion_matrix(y_test, y_pred)\n",
        "    sns.heatmap(cm, annot=True, fmt='d', cmap='Blues',\n",
        "                xticklabels=['Tidak Diabetes', 'Diabetes'],\n",
        "                yticklabels=['Tidak Diabetes', 'Diabetes'],\n",
        "                ax=axes[i]) # subplot yang akan digunakan\n",
        "\n",
        "    axes[i].set_title(f'CM - {name}')\n",
        "    axes[i].set_xlabel('Prediksi')\n",
        "    axes[i].set_ylabel('Aktual')\n",
        "\n",
        "# Menyembunyikan subplot yang tidak terpakai (jika dihapus terdapat 6 plot)\n",
        "for i in range(len(models), len(axes)):\n",
        "    fig.delaxes(axes[i])\n",
        "\n",
        "# Merapikan layout dan menampilkan gambar\n",
        "plt.tight_layout(pad=3.0) # pad untuk memberi ruang bagi suptitle\n",
        "plt.show()\n",
        "\n",
        "# Mengubah hasil ke DataFrame untuk perbandingan yang mudah\n",
        "results_df = pd.DataFrame(results).T"
      ],
      "metadata": {
        "colab": {
          "base_uri": "https://localhost:8080/",
          "height": 883
        },
        "id": "6aCb6BuPzgzY",
        "outputId": "83017475-0bc4-4f16-dee0-8575019f308d"
      },
      "execution_count": 15,
      "outputs": [
        {
          "output_type": "display_data",
          "data": {
            "text/plain": [
              "<Figure size 2000x1000 with 10 Axes>"
            ],
            "image/png": "[encoded data removed]"
          },
          "metadata": {}
        }
      ]
    },
    {
      "cell_type": "markdown",
      "source": [
        "### 5.1. Perbandingan Kinerja Model"
      ],
      "metadata": {
        "id": "TbTNe6Fyznwf"
      }
    },
    {
      "cell_type": "markdown",
      "source": [
        "Menampilkan tabel yang membandingkan metrik evaluasi dari kelima model."
      ],
      "metadata": {
        "id": "AGQ0I3JY4_hq"
      }
    },
    {
      "cell_type": "code",
      "source": [
        "# Menampilkan DataFrame hasil evaluasi\n",
        "print(\"Perbandingan Kinerja Model:\")\n",
        "print(results_df.sort_values(by='F1-Score', ascending=False))"
      ],
      "metadata": {
        "colab": {
          "base_uri": "https://localhost:8080/",
          "height": 0
        },
        "id": "E2vZVu3pzmOr",
        "outputId": "6c34edbe-e4fe-45e0-ffa5-9b47ca8a4b98"
      },
      "execution_count": 16,
      "outputs": [
        {
          "output_type": "stream",
          "name": "stdout",
          "text": [
            "Perbandingan Kinerja Model:\n",
            "                        Accuracy  Precision    Recall  F1-Score\n",
            "Random Forest           0.779221   0.727273  0.592593  0.653061\n",
            "K-Nearest Neighbors     0.753247   0.660000  0.611111  0.634615\n",
            "Support Vector Machine  0.733766   0.644444  0.537037  0.585859\n",
            "Logistic Regression     0.701299   0.586957  0.500000  0.540000\n",
            "Decision Tree           0.681818   0.553191  0.481481  0.514851\n"
          ]
        }
      ]
    },
    {
      "cell_type": "markdown",
      "source": [
        "* **Akurasi (Accuracy)**: Persentase total prediksi yang benar.\n",
        "\n",
        "* **Presisi (Precision)**: Dari semua pasien yang diprediksi diabetes, berapa persen yang benar-benar diabetes. Presisi tinggi penting untuk menghindari diagnosis positif palsu.\n",
        "\n",
        "* **Recall (Sensitivity)**: Dari semua pasien yang sebenarnya diabetes, berapa persen yang berhasil diidentifikasi oleh model. Recall tinggi sangat krusial dalam skrining medis untuk meminimalkan kasus negatif palsu (tidak mendeteksi penyakit).\n",
        "\n",
        "* **F1-Score**: Rata-rata dari presisi dan recall, memberikan skor tunggal yang menyeimbangkan keduanya."
      ],
      "metadata": {
        "id": "EhRiNZV_zvj9"
      }
    },
    {
      "cell_type": "markdown",
      "source": [
        "## 6. Kesimpulan"
      ],
      "metadata": {
        "id": "a2ucKOO85Tah"
      }
    },
    {
      "cell_type": "markdown",
      "source": [
        "Berdasarkan tabel perbandingan kinerja model, dapat ditarik beberapa kesimpulan mengenai model mana yang paling cocok untuk sistem skrining awal risiko diabetes."
      ],
      "metadata": {
        "id": "jP6T77ey5a7b"
      }
    },
    {
      "cell_type": "markdown",
      "source": [
        "Analisis Kinerja:\n",
        "1.   **Model Terbaik Secara Keseluruhan**: **Random Forest** muncul sebagai model dengan kinerja paling unggul. Model ini tidak hanya memiliki **Akurasi tertinggi (77.9%)**, tetapi juga **Precision (72.7%)** dan **F1-Score (0.653)** yang tertinggi di antara kelima model.\n",
        "\n",
        "2.   **Model dengan Kemampuan Deteksi Terbaik (Recall Tertinggi)**: **K-Nearest Neighbors (KNN)**, meskipun sedikit di bawah Random Forest secara keseluruhan, memiliki nilai **Recall tertinggi (61.1%)**.\n",
        "\n",
        "3.   **Trade-Off antara Presisi dan Recall**:\n",
        "  *   **Random Forest** lebih presisi. Ketika model ini memprediksi seseorang menderita diabetes, kemungkinan besar prediksi itu benar (presisi 72.7%)\n",
        "  *   **KNN** lebih sensitif (recall tinggi). Model ini lebih baik dalam \"menjaring\" semua kasus diabetes yang sebenarnya, meskipun mungkin dengan risiko menghasilkan lebih banyak false alarm (presisi lebih rendah di 66%).\n",
        "\n",
        "\n",
        "\n"
      ],
      "metadata": {
        "id": "7a5kZRDm8eie"
      }
    },
    {
      "cell_type": "markdown",
      "source": [
        "# 7. Implementasi Sistem Knowledge Base untuk Skrining\n",
        "\n",
        "---\n",
        "\n"
      ],
      "metadata": {
        "id": "wT1OOIdGBlpr"
      }
    }
  ]
}